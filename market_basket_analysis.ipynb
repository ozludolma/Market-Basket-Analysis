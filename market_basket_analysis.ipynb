{
  "cells": [
    {
      "cell_type": "markdown",
      "source": [
        "[![Open In Colab](https://colab.research.google.com/assets/colab-badge.svg)](https://colab.research.google.com/github/ozludolma/Market-Basket-Analysis/market_basket_analysis.ipynb)"
      ],
      "metadata": {
        "id": "GNPbzvG67z36"
      }
    },
    {
      "cell_type": "markdown",
      "metadata": {
        "id": "xYK78_wb0Ymc"
      },
      "source": [
        "**Importing the dataset via the Kaggle API**"
      ]
    },
    {
      "cell_type": "code",
      "execution_count": 1,
      "metadata": {
        "colab": {
          "base_uri": "https://localhost:8080/"
        },
        "id": "I9RbVtWl0uU_",
        "outputId": "f48a5b03-15f4-4d10-b5b7-0ee64d05f46e"
      },
      "outputs": [
        {
          "output_type": "stream",
          "name": "stdout",
          "text": [
            "Looking in indexes: https://pypi.org/simple, https://us-python.pkg.dev/colab-wheels/public/simple/\n",
            "Requirement already satisfied: kaggle in /usr/local/lib/python3.7/dist-packages (1.5.12)\n",
            "Requirement already satisfied: tqdm in /usr/local/lib/python3.7/dist-packages (from kaggle) (4.64.1)\n",
            "Requirement already satisfied: requests in /usr/local/lib/python3.7/dist-packages (from kaggle) (2.23.0)\n",
            "Requirement already satisfied: python-slugify in /usr/local/lib/python3.7/dist-packages (from kaggle) (6.1.2)\n",
            "Requirement already satisfied: six>=1.10 in /usr/local/lib/python3.7/dist-packages (from kaggle) (1.15.0)\n",
            "Requirement already satisfied: urllib3 in /usr/local/lib/python3.7/dist-packages (from kaggle) (1.24.3)\n",
            "Requirement already satisfied: certifi in /usr/local/lib/python3.7/dist-packages (from kaggle) (2022.9.24)\n",
            "Requirement already satisfied: python-dateutil in /usr/local/lib/python3.7/dist-packages (from kaggle) (2.8.2)\n",
            "Requirement already satisfied: text-unidecode>=1.3 in /usr/local/lib/python3.7/dist-packages (from python-slugify->kaggle) (1.3)\n",
            "Requirement already satisfied: idna<3,>=2.5 in /usr/local/lib/python3.7/dist-packages (from requests->kaggle) (2.10)\n",
            "Requirement already satisfied: chardet<4,>=3.0.2 in /usr/local/lib/python3.7/dist-packages (from requests->kaggle) (3.0.4)\n"
          ]
        }
      ],
      "source": [
        "!pip install kaggle"
      ]
    },
    {
      "cell_type": "code",
      "execution_count": 2,
      "metadata": {
        "colab": {
          "base_uri": "https://localhost:8080/",
          "height": 90
        },
        "id": "21wmMVuM0ytK",
        "outputId": "ce438207-3f62-4ab8-d491-8e48c4924c71"
      },
      "outputs": [
        {
          "output_type": "display_data",
          "data": {
            "text/plain": [
              "<IPython.core.display.HTML object>"
            ],
            "text/html": [
              "\n",
              "     <input type=\"file\" id=\"files-64ea08fe-0698-406f-aef7-06fff512ae7c\" name=\"files[]\" multiple disabled\n",
              "        style=\"border:none\" />\n",
              "     <output id=\"result-64ea08fe-0698-406f-aef7-06fff512ae7c\">\n",
              "      Upload widget is only available when the cell has been executed in the\n",
              "      current browser session. Please rerun this cell to enable.\n",
              "      </output>\n",
              "      <script>// Copyright 2017 Google LLC\n",
              "//\n",
              "// Licensed under the Apache License, Version 2.0 (the \"License\");\n",
              "// you may not use this file except in compliance with the License.\n",
              "// You may obtain a copy of the License at\n",
              "//\n",
              "//      http://www.apache.org/licenses/LICENSE-2.0\n",
              "//\n",
              "// Unless required by applicable law or agreed to in writing, software\n",
              "// distributed under the License is distributed on an \"AS IS\" BASIS,\n",
              "// WITHOUT WARRANTIES OR CONDITIONS OF ANY KIND, either express or implied.\n",
              "// See the License for the specific language governing permissions and\n",
              "// limitations under the License.\n",
              "\n",
              "/**\n",
              " * @fileoverview Helpers for google.colab Python module.\n",
              " */\n",
              "(function(scope) {\n",
              "function span(text, styleAttributes = {}) {\n",
              "  const element = document.createElement('span');\n",
              "  element.textContent = text;\n",
              "  for (const key of Object.keys(styleAttributes)) {\n",
              "    element.style[key] = styleAttributes[key];\n",
              "  }\n",
              "  return element;\n",
              "}\n",
              "\n",
              "// Max number of bytes which will be uploaded at a time.\n",
              "const MAX_PAYLOAD_SIZE = 100 * 1024;\n",
              "\n",
              "function _uploadFiles(inputId, outputId) {\n",
              "  const steps = uploadFilesStep(inputId, outputId);\n",
              "  const outputElement = document.getElementById(outputId);\n",
              "  // Cache steps on the outputElement to make it available for the next call\n",
              "  // to uploadFilesContinue from Python.\n",
              "  outputElement.steps = steps;\n",
              "\n",
              "  return _uploadFilesContinue(outputId);\n",
              "}\n",
              "\n",
              "// This is roughly an async generator (not supported in the browser yet),\n",
              "// where there are multiple asynchronous steps and the Python side is going\n",
              "// to poll for completion of each step.\n",
              "// This uses a Promise to block the python side on completion of each step,\n",
              "// then passes the result of the previous step as the input to the next step.\n",
              "function _uploadFilesContinue(outputId) {\n",
              "  const outputElement = document.getElementById(outputId);\n",
              "  const steps = outputElement.steps;\n",
              "\n",
              "  const next = steps.next(outputElement.lastPromiseValue);\n",
              "  return Promise.resolve(next.value.promise).then((value) => {\n",
              "    // Cache the last promise value to make it available to the next\n",
              "    // step of the generator.\n",
              "    outputElement.lastPromiseValue = value;\n",
              "    return next.value.response;\n",
              "  });\n",
              "}\n",
              "\n",
              "/**\n",
              " * Generator function which is called between each async step of the upload\n",
              " * process.\n",
              " * @param {string} inputId Element ID of the input file picker element.\n",
              " * @param {string} outputId Element ID of the output display.\n",
              " * @return {!Iterable<!Object>} Iterable of next steps.\n",
              " */\n",
              "function* uploadFilesStep(inputId, outputId) {\n",
              "  const inputElement = document.getElementById(inputId);\n",
              "  inputElement.disabled = false;\n",
              "\n",
              "  const outputElement = document.getElementById(outputId);\n",
              "  outputElement.innerHTML = '';\n",
              "\n",
              "  const pickedPromise = new Promise((resolve) => {\n",
              "    inputElement.addEventListener('change', (e) => {\n",
              "      resolve(e.target.files);\n",
              "    });\n",
              "  });\n",
              "\n",
              "  const cancel = document.createElement('button');\n",
              "  inputElement.parentElement.appendChild(cancel);\n",
              "  cancel.textContent = 'Cancel upload';\n",
              "  const cancelPromise = new Promise((resolve) => {\n",
              "    cancel.onclick = () => {\n",
              "      resolve(null);\n",
              "    };\n",
              "  });\n",
              "\n",
              "  // Wait for the user to pick the files.\n",
              "  const files = yield {\n",
              "    promise: Promise.race([pickedPromise, cancelPromise]),\n",
              "    response: {\n",
              "      action: 'starting',\n",
              "    }\n",
              "  };\n",
              "\n",
              "  cancel.remove();\n",
              "\n",
              "  // Disable the input element since further picks are not allowed.\n",
              "  inputElement.disabled = true;\n",
              "\n",
              "  if (!files) {\n",
              "    return {\n",
              "      response: {\n",
              "        action: 'complete',\n",
              "      }\n",
              "    };\n",
              "  }\n",
              "\n",
              "  for (const file of files) {\n",
              "    const li = document.createElement('li');\n",
              "    li.append(span(file.name, {fontWeight: 'bold'}));\n",
              "    li.append(span(\n",
              "        `(${file.type || 'n/a'}) - ${file.size} bytes, ` +\n",
              "        `last modified: ${\n",
              "            file.lastModifiedDate ? file.lastModifiedDate.toLocaleDateString() :\n",
              "                                    'n/a'} - `));\n",
              "    const percent = span('0% done');\n",
              "    li.appendChild(percent);\n",
              "\n",
              "    outputElement.appendChild(li);\n",
              "\n",
              "    const fileDataPromise = new Promise((resolve) => {\n",
              "      const reader = new FileReader();\n",
              "      reader.onload = (e) => {\n",
              "        resolve(e.target.result);\n",
              "      };\n",
              "      reader.readAsArrayBuffer(file);\n",
              "    });\n",
              "    // Wait for the data to be ready.\n",
              "    let fileData = yield {\n",
              "      promise: fileDataPromise,\n",
              "      response: {\n",
              "        action: 'continue',\n",
              "      }\n",
              "    };\n",
              "\n",
              "    // Use a chunked sending to avoid message size limits. See b/62115660.\n",
              "    let position = 0;\n",
              "    do {\n",
              "      const length = Math.min(fileData.byteLength - position, MAX_PAYLOAD_SIZE);\n",
              "      const chunk = new Uint8Array(fileData, position, length);\n",
              "      position += length;\n",
              "\n",
              "      const base64 = btoa(String.fromCharCode.apply(null, chunk));\n",
              "      yield {\n",
              "        response: {\n",
              "          action: 'append',\n",
              "          file: file.name,\n",
              "          data: base64,\n",
              "        },\n",
              "      };\n",
              "\n",
              "      let percentDone = fileData.byteLength === 0 ?\n",
              "          100 :\n",
              "          Math.round((position / fileData.byteLength) * 100);\n",
              "      percent.textContent = `${percentDone}% done`;\n",
              "\n",
              "    } while (position < fileData.byteLength);\n",
              "  }\n",
              "\n",
              "  // All done.\n",
              "  yield {\n",
              "    response: {\n",
              "      action: 'complete',\n",
              "    }\n",
              "  };\n",
              "}\n",
              "\n",
              "scope.google = scope.google || {};\n",
              "scope.google.colab = scope.google.colab || {};\n",
              "scope.google.colab._files = {\n",
              "  _uploadFiles,\n",
              "  _uploadFilesContinue,\n",
              "};\n",
              "})(self);\n",
              "</script> "
            ]
          },
          "metadata": {}
        },
        {
          "output_type": "stream",
          "name": "stdout",
          "text": [
            "Saving kaggle.json to kaggle.json\n"
          ]
        },
        {
          "output_type": "execute_result",
          "data": {
            "text/plain": [
              "{'kaggle.json': b'{\"username\":\"ozludolma\",\"key\":\"b46518014c2519973527c9a2dc2e1882\"}'}"
            ]
          },
          "metadata": {},
          "execution_count": 2
        }
      ],
      "source": [
        "from google.colab import files\n",
        "files.upload() # here, kaggle.json file needs to be uploaded"
      ]
    },
    {
      "cell_type": "code",
      "source": [
        "!pip install -q kaggle\n",
        "!mkdir -p ~/.kaggle\n",
        "!cp kaggle.json ~/.kaggle/\n",
        "!chmod 600 ~/.kaggle/kaggle.json"
      ],
      "metadata": {
        "id": "MP7iCzVlsCvm"
      },
      "execution_count": 3,
      "outputs": []
    },
    {
      "cell_type": "code",
      "execution_count": 4,
      "metadata": {
        "colab": {
          "base_uri": "https://localhost:8080/"
        },
        "id": "iHxqmuGZ0_mk",
        "outputId": "ceb4f0ef-7c2d-443e-eb84-15eead6b0ea4"
      },
      "outputs": [
        {
          "output_type": "stream",
          "name": "stdout",
          "text": [
            "Downloading old-newspapers.zip to /content\n",
            "100% 2.04G/2.05G [00:13<00:00, 110MB/s]\n",
            "100% 2.05G/2.05G [00:13<00:00, 164MB/s]\n"
          ]
        }
      ],
      "source": [
        "!kaggle datasets download -d alvations/old-newspapers"
      ]
    },
    {
      "cell_type": "code",
      "execution_count": 5,
      "metadata": {
        "colab": {
          "base_uri": "https://localhost:8080/"
        },
        "id": "f9ovQB8G1Gdh",
        "outputId": "f72e22c2-dc51-48c8-cc72-e62840e128c8"
      },
      "outputs": [
        {
          "output_type": "stream",
          "name": "stdout",
          "text": [
            "Archive:  old-newspapers.zip\n",
            "  inflating: old-newspaper.tsv       \n"
          ]
        }
      ],
      "source": [
        "!unzip old-newspapers.zip"
      ]
    },
    {
      "cell_type": "markdown",
      "metadata": {
        "id": "ZJHdO8oW1Lw0"
      },
      "source": [
        "**Installing Spark and importing the required libraries**"
      ]
    },
    {
      "cell_type": "code",
      "execution_count": 6,
      "metadata": {
        "colab": {
          "base_uri": "https://localhost:8080/"
        },
        "id": "tGmkVkMX1eqN",
        "outputId": "854ff248-c3b5-4118-a545-fdbeefccd21c"
      },
      "outputs": [
        {
          "output_type": "stream",
          "name": "stdout",
          "text": [
            "Looking in indexes: https://pypi.org/simple, https://us-python.pkg.dev/colab-wheels/public/simple/\n",
            "Collecting pyspark\n",
            "  Downloading pyspark-3.3.1.tar.gz (281.4 MB)\n",
            "\u001b[K     |████████████████████████████████| 281.4 MB 40 kB/s \n",
            "\u001b[?25hCollecting py4j==0.10.9.5\n",
            "  Downloading py4j-0.10.9.5-py2.py3-none-any.whl (199 kB)\n",
            "\u001b[K     |████████████████████████████████| 199 kB 53.2 MB/s \n",
            "\u001b[?25hBuilding wheels for collected packages: pyspark\n",
            "  Building wheel for pyspark (setup.py) ... \u001b[?25l\u001b[?25hdone\n",
            "  Created wheel for pyspark: filename=pyspark-3.3.1-py2.py3-none-any.whl size=281845513 sha256=539851f93dae23204eba39596454a2a5d900b2039fb207b876f8e34439e52367\n",
            "  Stored in directory: /root/.cache/pip/wheels/42/59/f5/79a5bf931714dcd201b26025347785f087370a10a3329a899c\n",
            "Successfully built pyspark\n",
            "Installing collected packages: py4j, pyspark\n",
            "Successfully installed py4j-0.10.9.5 pyspark-3.3.1\n"
          ]
        }
      ],
      "source": [
        "!pip install pyspark"
      ]
    },
    {
      "cell_type": "code",
      "execution_count": 7,
      "metadata": {
        "id": "D3SDbC-71u3n"
      },
      "outputs": [],
      "source": [
        "from pyspark import SparkConf, SparkContext\n",
        "from pyspark.sql import SparkSession\n",
        "from pyspark.sql import SQLContext\n",
        "import string\n",
        "import re\n",
        "import nltk\n",
        "import itertools\n",
        "import collections\n",
        "import matplotlib.pyplot as plt"
      ]
    },
    {
      "cell_type": "code",
      "execution_count": 8,
      "metadata": {
        "id": "5ilgRahC1yk2"
      },
      "outputs": [],
      "source": [
        "spark = SparkSession.builder.enableHiveSupport().getOrCreate()"
      ]
    },
    {
      "cell_type": "code",
      "execution_count": 9,
      "metadata": {
        "id": "l9eHPSJf11XO"
      },
      "outputs": [],
      "source": [
        "sc = spark.sparkContext"
      ]
    },
    {
      "cell_type": "markdown",
      "metadata": {
        "id": "cDIySfWW15qa"
      },
      "source": [
        "**Creation of the dataset**"
      ]
    },
    {
      "cell_type": "code",
      "execution_count": 10,
      "metadata": {
        "id": "uEnURJyM14hj"
      },
      "outputs": [],
      "source": [
        "df = spark.read.csv(\"old-newspaper.tsv\", sep=r'\\t', header=True, inferSchema=True)"
      ]
    },
    {
      "cell_type": "markdown",
      "metadata": {
        "id": "x_6JYi1-2O7Q"
      },
      "source": [
        "**Data Preprocessing**"
      ]
    },
    {
      "cell_type": "markdown",
      "metadata": {
        "id": "jcRJv_N02PJe"
      },
      "source": [
        "Selection of the documents written in English"
      ]
    },
    {
      "cell_type": "code",
      "execution_count": 11,
      "metadata": {
        "id": "GAEPErwwacSF",
        "colab": {
          "base_uri": "https://localhost:8080/"
        },
        "outputId": "ed1981ee-e7b8-49b4-b1dc-775144999e9b"
      },
      "outputs": [
        {
          "output_type": "stream",
          "name": "stdout",
          "text": [
            "+--------+------------+----------+--------------------+\n",
            "|Language|      Source|      Date|                Text|\n",
            "+--------+------------+----------+--------------------+\n",
            "| English| latimes.com|2012/04/29|He wasn't home al...|\n",
            "| English|stltoday.com|2011/07/10|The St. Louis pla...|\n",
            "| English|   freep.com|2012/05/07|WSU's plans quick...|\n",
            "| English|      nj.com|2011/02/05|The Alaimo Group ...|\n",
            "| English|  sacbee.com|2011/10/02|And when it's oft...|\n",
            "+--------+------------+----------+--------------------+\n",
            "only showing top 5 rows\n",
            "\n"
          ]
        }
      ],
      "source": [
        "df = df.filter(df.Language == \"English\")\n",
        "df.show(5)"
      ]
    },
    {
      "cell_type": "markdown",
      "metadata": {
        "id": "hT7DrraI2juW"
      },
      "source": [
        "Removal of the punctuation from the text"
      ]
    },
    {
      "cell_type": "code",
      "execution_count": 12,
      "metadata": {
        "id": "hlg00Diu2goL"
      },
      "outputs": [],
      "source": [
        "# A user defined function to remove the punctuation\n",
        "\n",
        "from pyspark.sql import udf  \n",
        "from pyspark.sql import functions as F\n",
        "from pyspark.sql import types as T\n",
        "\n",
        "@F.udf(returnType=T.StringType())\n",
        "def remove_punct(text):\n",
        "    return text.translate(str.maketrans('', '', string.punctuation))"
      ]
    },
    {
      "cell_type": "code",
      "execution_count": 13,
      "metadata": {
        "id": "bsiJJlxgamcY",
        "colab": {
          "base_uri": "https://localhost:8080/"
        },
        "outputId": "83416285-c114-4c15-e269-efc4a33daf0f"
      },
      "outputs": [
        {
          "output_type": "stream",
          "name": "stdout",
          "text": [
            "+--------+------------+----------+--------------------+\n",
            "|Language|      Source|      Date|                Text|\n",
            "+--------+------------+----------+--------------------+\n",
            "| English| latimes.com|2012/04/29|He wasnt home alo...|\n",
            "| English|stltoday.com|2011/07/10|The St Louis plan...|\n",
            "| English|   freep.com|2012/05/07|WSUs plans quickl...|\n",
            "| English|      nj.com|2011/02/05|The Alaimo Group ...|\n",
            "| English|  sacbee.com|2011/10/02|And when its ofte...|\n",
            "+--------+------------+----------+--------------------+\n",
            "only showing top 5 rows\n",
            "\n"
          ]
        }
      ],
      "source": [
        "df = df.withColumn(\"Text\", remove_punct(F.col(\"Text\")))\n",
        "df.show(5)"
      ]
    },
    {
      "cell_type": "markdown",
      "metadata": {
        "id": "YwoUc8-53HUi"
      },
      "source": [
        "Converting the text to lowercase"
      ]
    },
    {
      "cell_type": "code",
      "execution_count": 14,
      "metadata": {
        "id": "zlElfF7baw0I",
        "colab": {
          "base_uri": "https://localhost:8080/"
        },
        "outputId": "418f6dd1-256f-4004-888b-f1a2ec85d4ef"
      },
      "outputs": [
        {
          "output_type": "stream",
          "name": "stdout",
          "text": [
            "+--------+------------+----------+--------------------+\n",
            "|Language|      Source|      Date|                Text|\n",
            "+--------+------------+----------+--------------------+\n",
            "| English| latimes.com|2012/04/29|he wasnt home alo...|\n",
            "| English|stltoday.com|2011/07/10|the st louis plan...|\n",
            "| English|   freep.com|2012/05/07|wsus plans quickl...|\n",
            "| English|      nj.com|2011/02/05|the alaimo group ...|\n",
            "| English|  sacbee.com|2011/10/02|and when its ofte...|\n",
            "+--------+------------+----------+--------------------+\n",
            "only showing top 5 rows\n",
            "\n"
          ]
        }
      ],
      "source": [
        "df = df.withColumn(\"Text\", F.lower(\"Text\"))\n",
        "df.show(5)"
      ]
    },
    {
      "cell_type": "markdown",
      "metadata": {
        "id": "z2Sy3W9H3V-0"
      },
      "source": [
        "Splitting the text strings into lists of tokens"
      ]
    },
    {
      "cell_type": "code",
      "execution_count": 15,
      "metadata": {
        "id": "7mSh113D3VHf",
        "colab": {
          "base_uri": "https://localhost:8080/"
        },
        "outputId": "d3fdc823-19dd-4af3-98b9-2877718c1a09"
      },
      "outputs": [
        {
          "output_type": "stream",
          "name": "stdout",
          "text": [
            "+--------+------------------+----------+--------------------+--------------------+\n",
            "|Language|            Source|      Date|                Text|              Text_2|\n",
            "+--------+------------------+----------+--------------------+--------------------+\n",
            "| English|       latimes.com|2012/04/29|he wasnt home alo...|[he, wasnt, home,...|\n",
            "| English|      stltoday.com|2011/07/10|the st louis plan...|[the, st, louis, ...|\n",
            "| English|         freep.com|2012/05/07|wsus plans quickl...|[wsus, plans, qui...|\n",
            "| English|            nj.com|2011/02/05|the alaimo group ...|[the, alaimo, gro...|\n",
            "| English|        sacbee.com|2011/10/02|and when its ofte...|[and, when, its, ...|\n",
            "| English|     cleveland.com|2012/04/27|there was a certa...|[there, was, a, c...|\n",
            "| English|         freep.com|2012/05/03|14915 charlevoix ...|[14915, charlevoi...|\n",
            "| English|            nj.com|2011/02/02|it’s just another...|[it’s, just, anot...|\n",
            "| English|chicagotribune.com|2012/01/05|but time and agai...|[but, time, and, ...|\n",
            "| English|      indystar.com|2012/05/04|i was just trying...|[i, was, just, tr...|\n",
            "| English|   startribune.com|2012/04/25|mhta president an...|[mhta, president,...|\n",
            "| English|           ajc.com|2012/05/04|the absurdity of ...|[the, absurdity, ...|\n",
            "| English|     cleveland.com|2009/05/29|gm labor relation...|[gm, labor, relat...|\n",
            "| English|           wsj.com|2012/04/30|here is why wandr...|[here, is, why, w...|\n",
            "| English|    oregonlive.com|2010/04/25|cheap he said he ...|[cheap, he, said,...|\n",
            "| English|      indystar.com|2011/09/06|andrades children...|[andrades, childr...|\n",
            "| English|    oregonlive.com|2010/03/17|let your hair dow...|[let, your, hair,...|\n",
            "| English|            nj.com|2012/04/13|born on april 15 ...|[born, on, april,...|\n",
            "| English|       latimes.com|2011/06/17|house minority le...|[house, minority,...|\n",
            "| English|     cleveland.com|2012/02/17|the first is the ...|[the, first, is, ...|\n",
            "+--------+------------------+----------+--------------------+--------------------+\n",
            "only showing top 20 rows\n",
            "\n"
          ]
        }
      ],
      "source": [
        "from pyspark.sql.functions import split\n",
        "\n",
        "df = df.withColumn(\"Text_2\", split(\"Text\", \"\\s+\"))\n",
        "\n",
        "df.show()"
      ]
    },
    {
      "cell_type": "markdown",
      "metadata": {
        "id": "SwKzUToN3oKP"
      },
      "source": [
        "Removal of the numeric values from the text"
      ]
    },
    {
      "cell_type": "code",
      "execution_count": 16,
      "metadata": {
        "id": "MIF6zL4gbJvw",
        "colab": {
          "base_uri": "https://localhost:8080/"
        },
        "outputId": "428e9b37-d273-40db-b2eb-86318bf83152"
      },
      "outputs": [
        {
          "output_type": "stream",
          "name": "stdout",
          "text": [
            "+--------+------------------+----------+--------------------+--------------------+\n",
            "|Language|            Source|      Date|                Text|              Text_2|\n",
            "+--------+------------------+----------+--------------------+--------------------+\n",
            "| English|       latimes.com|2012/04/29|he wasnt home alo...|[he, wasnt, home,...|\n",
            "| English|      stltoday.com|2011/07/10|the st louis plan...|[the, st, louis, ...|\n",
            "| English|         freep.com|2012/05/07|wsus plans quickl...|[wsus, plans, qui...|\n",
            "| English|            nj.com|2011/02/05|the alaimo group ...|[the, alaimo, gro...|\n",
            "| English|        sacbee.com|2011/10/02|and when its ofte...|[and, when, its, ...|\n",
            "| English|     cleveland.com|2012/04/27|there was a certa...|[there, was, a, c...|\n",
            "| English|         freep.com|2012/05/03|14915 charlevoix ...|[charlevoix, detr...|\n",
            "| English|            nj.com|2011/02/02|it’s just another...|[it’s, just, anot...|\n",
            "| English|chicagotribune.com|2012/01/05|but time and agai...|[but, time, and, ...|\n",
            "| English|      indystar.com|2012/05/04|i was just trying...|[i, was, just, tr...|\n",
            "| English|   startribune.com|2012/04/25|mhta president an...|[mhta, president,...|\n",
            "| English|           ajc.com|2012/05/04|the absurdity of ...|[the, absurdity, ...|\n",
            "| English|     cleveland.com|2009/05/29|gm labor relation...|[gm, labor, relat...|\n",
            "| English|           wsj.com|2012/04/30|here is why wandr...|[here, is, why, w...|\n",
            "| English|    oregonlive.com|2010/04/25|cheap he said he ...|[cheap, he, said,...|\n",
            "| English|      indystar.com|2011/09/06|andrades children...|[andrades, childr...|\n",
            "| English|    oregonlive.com|2010/03/17|let your hair dow...|[let, your, hair,...|\n",
            "| English|            nj.com|2012/04/13|born on april 15 ...|[born, on, april,...|\n",
            "| English|       latimes.com|2011/06/17|house minority le...|[house, minority,...|\n",
            "| English|     cleveland.com|2012/02/17|the first is the ...|[the, first, is, ...|\n",
            "+--------+------------------+----------+--------------------+--------------------+\n",
            "only showing top 20 rows\n",
            "\n"
          ]
        }
      ],
      "source": [
        "df = df.withColumn('Text_2', F.expr(\"array_remove(transform(Text_2, x -> regexp_replace(x, '[0-9]', '')), '') as Text_2\"))\n",
        "df.show()"
      ]
    },
    {
      "cell_type": "markdown",
      "metadata": {
        "id": "uJwPxYR_363g"
      },
      "source": [
        "Removal of the stopwords from the text"
      ]
    },
    {
      "cell_type": "code",
      "execution_count": 17,
      "metadata": {
        "colab": {
          "base_uri": "https://localhost:8080/"
        },
        "id": "-lkidV_z36E2",
        "outputId": "d759c20c-618e-456f-a384-f05e472af0b5"
      },
      "outputs": [
        {
          "output_type": "stream",
          "name": "stderr",
          "text": [
            "[nltk_data] Downloading package stopwords to /root/nltk_data...\n",
            "[nltk_data]   Unzipping corpora/stopwords.zip.\n"
          ]
        },
        {
          "output_type": "execute_result",
          "data": {
            "text/plain": [
              "True"
            ]
          },
          "metadata": {},
          "execution_count": 17
        }
      ],
      "source": [
        "nltk.download('stopwords')"
      ]
    },
    {
      "cell_type": "code",
      "execution_count": 18,
      "metadata": {
        "id": "46EL-D0k5GGI"
      },
      "outputs": [],
      "source": [
        "from nltk.corpus import stopwords\n",
        "stop_words = set(stopwords.words('english'))\n",
        "stop_words = list(stop_words)"
      ]
    },
    {
      "cell_type": "code",
      "execution_count": 19,
      "metadata": {
        "id": "3YDVCxdZ5Itl"
      },
      "outputs": [],
      "source": [
        "from pyspark.ml.feature import StopWordsRemover\n",
        "remover = StopWordsRemover(stopWords=stop_words)"
      ]
    },
    {
      "cell_type": "code",
      "execution_count": 20,
      "metadata": {
        "colab": {
          "base_uri": "https://localhost:8080/"
        },
        "id": "7QLiBZ4t5L5Z",
        "outputId": "a8308ed5-f92e-4656-9830-b81e8a3d43a7"
      },
      "outputs": [
        {
          "output_type": "execute_result",
          "data": {
            "text/plain": [
              "StopWordsRemover_78f24fc06ee7"
            ]
          },
          "metadata": {},
          "execution_count": 20
        }
      ],
      "source": [
        "remover.setInputCol(\"Text_2\")"
      ]
    },
    {
      "cell_type": "code",
      "execution_count": 21,
      "metadata": {
        "colab": {
          "base_uri": "https://localhost:8080/"
        },
        "id": "3rbkqIXl5hLo",
        "outputId": "7f912305-3dd7-47fc-ccf3-fa908117374e"
      },
      "outputs": [
        {
          "output_type": "execute_result",
          "data": {
            "text/plain": [
              "StopWordsRemover_78f24fc06ee7"
            ]
          },
          "metadata": {},
          "execution_count": 21
        }
      ],
      "source": [
        "remover.setOutputCol(\"words\")"
      ]
    },
    {
      "cell_type": "code",
      "execution_count": 22,
      "metadata": {
        "id": "sFI-xo0HbUfV"
      },
      "outputs": [],
      "source": [
        "df = remover.transform(df)"
      ]
    },
    {
      "cell_type": "code",
      "execution_count": 23,
      "metadata": {
        "id": "_F481Vwe5pI_",
        "colab": {
          "base_uri": "https://localhost:8080/"
        },
        "outputId": "b3e03be2-eb4f-4eb7-ea5a-0d65570b1467"
      },
      "outputs": [
        {
          "output_type": "stream",
          "name": "stdout",
          "text": [
            "+--------+------------+----------+--------------------+--------------------+--------------------+\n",
            "|Language|      Source|      Date|                Text|              Text_2|               words|\n",
            "+--------+------------+----------+--------------------+--------------------+--------------------+\n",
            "| English| latimes.com|2012/04/29|he wasnt home alo...|[he, wasnt, home,...|[wasnt, home, alo...|\n",
            "| English|stltoday.com|2011/07/10|the st louis plan...|[the, st, louis, ...|[st, louis, plant...|\n",
            "| English|   freep.com|2012/05/07|wsus plans quickl...|[wsus, plans, qui...|[wsus, plans, qui...|\n",
            "| English|      nj.com|2011/02/05|the alaimo group ...|[the, alaimo, gro...|[alaimo, group, m...|\n",
            "| English|  sacbee.com|2011/10/02|and when its ofte...|[and, when, its, ...|[often, difficult...|\n",
            "+--------+------------+----------+--------------------+--------------------+--------------------+\n",
            "only showing top 5 rows\n",
            "\n"
          ]
        }
      ],
      "source": [
        "df.show(5)"
      ]
    },
    {
      "cell_type": "markdown",
      "metadata": {
        "id": "iPgRHsM15wHf"
      },
      "source": [
        "Removal of the duplicate tokens from the each list of tokens"
      ]
    },
    {
      "cell_type": "code",
      "execution_count": 24,
      "metadata": {
        "id": "cQ2mkWWr5r59",
        "colab": {
          "base_uri": "https://localhost:8080/"
        },
        "outputId": "7e330049-3052-43bb-db31-e8302d256f55"
      },
      "outputs": [
        {
          "output_type": "stream",
          "name": "stdout",
          "text": [
            "+--------+------------------+----------+--------------------+--------------------+--------------------+--------------------+\n",
            "|Language|            Source|      Date|                Text|              Text_2|               words|               items|\n",
            "+--------+------------------+----------+--------------------+--------------------+--------------------+--------------------+\n",
            "| English|       latimes.com|2012/04/29|he wasnt home alo...|[he, wasnt, home,...|[wasnt, home, alo...|[wasnt, home, alo...|\n",
            "| English|      stltoday.com|2011/07/10|the st louis plan...|[the, st, louis, ...|[st, louis, plant...|[st, louis, plant...|\n",
            "| English|         freep.com|2012/05/07|wsus plans quickl...|[wsus, plans, qui...|[wsus, plans, qui...|[wsus, plans, qui...|\n",
            "| English|            nj.com|2011/02/05|the alaimo group ...|[the, alaimo, gro...|[alaimo, group, m...|[alaimo, group, m...|\n",
            "| English|        sacbee.com|2011/10/02|and when its ofte...|[and, when, its, ...|[often, difficult...|[often, difficult...|\n",
            "| English|     cleveland.com|2012/04/27|there was a certa...|[there, was, a, c...|[certain, amount,...|[certain, amount,...|\n",
            "| English|         freep.com|2012/05/03|14915 charlevoix ...|[charlevoix, detr...|[charlevoix, detr...|[charlevoix, detr...|\n",
            "| English|            nj.com|2011/02/02|it’s just another...|[it’s, just, anot...|[it’s, another, l...|[it’s, another, l...|\n",
            "| English|chicagotribune.com|2012/01/05|but time and agai...|[but, time, and, ...|[time, report, su...|[time, report, su...|\n",
            "| English|      indystar.com|2012/05/04|i was just trying...|[i, was, just, tr...|[trying, hit, har...|[trying, hit, har...|\n",
            "| English|   startribune.com|2012/04/25|mhta president an...|[mhta, president,...|[mhta, president,...|[mhta, president,...|\n",
            "| English|           ajc.com|2012/05/04|the absurdity of ...|[the, absurdity, ...|[absurdity, attem...|[absurdity, attem...|\n",
            "| English|     cleveland.com|2009/05/29|gm labor relation...|[gm, labor, relat...|[gm, labor, relat...|[gm, labor, relat...|\n",
            "| English|           wsj.com|2012/04/30|here is why wandr...|[here, is, why, w...|[wandry, matters,...|[wandry, matters,...|\n",
            "| English|    oregonlive.com|2010/04/25|cheap he said he ...|[cheap, he, said,...|[cheap, said, hit...|[cheap, said, hit...|\n",
            "| English|      indystar.com|2011/09/06|andrades children...|[andrades, childr...|[andrades, childr...|[andrades, childr...|\n",
            "| English|    oregonlive.com|2010/03/17|let your hair dow...|[let, your, hair,...|[let, hair, looks...|[let, hair, looks...|\n",
            "| English|            nj.com|2012/04/13|born on april 15 ...|[born, on, april,...|[born, april, poz...|[born, april, poz...|\n",
            "| English|       latimes.com|2011/06/17|house minority le...|[house, minority,...|[house, minority,...|[house, minority,...|\n",
            "| English|     cleveland.com|2012/02/17|the first is the ...|[the, first, is, ...|[first, love, sel...|[first, love, sel...|\n",
            "+--------+------------------+----------+--------------------+--------------------+--------------------+--------------------+\n",
            "only showing top 20 rows\n",
            "\n"
          ]
        }
      ],
      "source": [
        "from pyspark.sql.functions import array_distinct\n",
        "\n",
        "df = df.withColumn(\"items\", array_distinct(\"words\"))\n",
        "\n",
        "df.show()"
      ]
    },
    {
      "cell_type": "markdown",
      "metadata": {
        "id": "zoEb6Ih_56UV"
      },
      "source": [
        "Creation of the final dataframe called \"baskets\" by selecting the relevant columns"
      ]
    },
    {
      "cell_type": "code",
      "execution_count": 25,
      "metadata": {
        "id": "ASS4X8RubrZc"
      },
      "outputs": [],
      "source": [
        "baskets=df.select(\"Source\",\"Date\",\"items\")"
      ]
    },
    {
      "cell_type": "markdown",
      "source": [
        "Random selection of a sample of baskets from the dataset"
      ],
      "metadata": {
        "id": "LqkQkGZxMmau"
      }
    },
    {
      "cell_type": "code",
      "execution_count": 26,
      "metadata": {
        "id": "Po9Dy_9-p7OG"
      },
      "outputs": [],
      "source": [
        "baskets=baskets.sample(withReplacement=False, fraction=0.5, seed=34)"
      ]
    },
    {
      "cell_type": "markdown",
      "source": [
        "Creation of the rdd list of baskets"
      ],
      "metadata": {
        "id": "x8-7UUNxMokd"
      }
    },
    {
      "cell_type": "code",
      "execution_count": 27,
      "metadata": {
        "id": "QU2wXXUc6IwH"
      },
      "outputs": [],
      "source": [
        "baskets_rdd = baskets.select('items').rdd.flatMap(list)"
      ]
    },
    {
      "cell_type": "code",
      "source": [
        "baskets_rdd.take(3)"
      ],
      "metadata": {
        "colab": {
          "base_uri": "https://localhost:8080/"
        },
        "id": "rlKayZXTQSf5",
        "outputId": "d0708b50-ac30-4263-839c-15c93893a0b9"
      },
      "execution_count": 28,
      "outputs": [
        {
          "output_type": "execute_result",
          "data": {
            "text/plain": [
              "[['certain',\n",
              "  'amount',\n",
              "  'scoffing',\n",
              "  'going',\n",
              "  'around',\n",
              "  'years',\n",
              "  'ago',\n",
              "  'nfl',\n",
              "  'decided',\n",
              "  'move',\n",
              "  'draft',\n",
              "  'weekend',\n",
              "  'prime',\n",
              "  'time',\n",
              "  'eventually',\n",
              "  'splitting',\n",
              "  'first',\n",
              "  'round',\n",
              "  'separate',\n",
              "  'day'],\n",
              " ['charlevoix', 'detroit'],\n",
              " ['time',\n",
              "  'report',\n",
              "  'sullivan',\n",
              "  'called',\n",
              "  'cps',\n",
              "  'correct',\n",
              "  'problems',\n",
              "  'improve',\n",
              "  'employee',\n",
              "  'accountability',\n",
              "  'saying',\n",
              "  'example',\n",
              "  'measures',\n",
              "  'keep',\n",
              "  'employees',\n",
              "  'submitting',\n",
              "  'fraudulent',\n",
              "  'invoices',\n",
              "  'block',\n",
              "  'accessing',\n",
              "  'inappropriate',\n",
              "  'websites',\n",
              "  'place']]"
            ]
          },
          "metadata": {},
          "execution_count": 28
        }
      ]
    },
    {
      "cell_type": "code",
      "execution_count": 29,
      "metadata": {
        "colab": {
          "base_uri": "https://localhost:8080/"
        },
        "id": "WEvVKzI8F9mh",
        "outputId": "34551611-412b-43f7-cc70-60473fb8316c"
      },
      "outputs": [
        {
          "output_type": "execute_result",
          "data": {
            "text/plain": [
              "505242"
            ]
          },
          "metadata": {},
          "execution_count": 29
        }
      ],
      "source": [
        "baskets_rdd.count() # There are 505242 baskets in total"
      ]
    },
    {
      "cell_type": "code",
      "execution_count": 30,
      "metadata": {
        "id": "HxmLhKIC6RJk"
      },
      "outputs": [],
      "source": [
        "baskets_par = sc.parallelize(baskets_rdd.collect(), 5) #Partition the baskets into chunks "
      ]
    },
    {
      "cell_type": "markdown",
      "source": [
        "## **The SON Algorithm and MapReduce**"
      ],
      "metadata": {
        "id": "MPmTaqdeXEll"
      }
    },
    {
      "cell_type": "markdown",
      "metadata": {
        "id": "w7LknDzl_eLF"
      },
      "source": [
        "**Finding Frequent Singleton Itemsets**"
      ]
    },
    {
      "cell_type": "markdown",
      "metadata": {
        "id": "0_TlCogA6elB"
      },
      "source": [
        "Definition of the function to be used to count the singleton itemsets"
      ]
    },
    {
      "cell_type": "code",
      "execution_count": 31,
      "metadata": {
        "id": "pncgSj_p6sTJ"
      },
      "outputs": [],
      "source": [
        "def freq_token(rdd, s):\n",
        "  baskets_rdd = rdd.flatMap(list) # create a whole list of all tokens \n",
        "  token_list = baskets_rdd.map(lambda token: (token , 1)) # create a list of key-value pairs where the key is the token and the value is 1 indicating the existence of that token\n",
        "  token_count_list = token_list.reduceByKey(lambda x, y: x + y) # compute the count of each token in the whole corpus of tokens by summing the values where token is the key\n",
        "  filtered_tokens = token_count_list.filter(lambda token: token[1] >= s) # select the tokens and their associated counts which is greater or equal than the support threshold\n",
        "  return (filtered_tokens)"
      ]
    },
    {
      "cell_type": "markdown",
      "source": [
        "Definition of the function to run the first Map phase"
      ],
      "metadata": {
        "id": "EtXmsh9HYbDR"
      }
    },
    {
      "cell_type": "code",
      "execution_count": 32,
      "metadata": {
        "id": "TgoePu_G_ukh"
      },
      "outputs": [],
      "source": [
        "def son_freq_tokens (baskets, no_of_chunks, total_threshold):\n",
        "  l = sc.parallelize([]) # creation of an empty rdd\n",
        "  for i in range (0, no_of_chunks): # for each chunk from 1 to 5:\n",
        "    chunk = sc.parallelize(baskets.glom().collect()[i]) # collect all the text lines in that chunk\n",
        "    chunk_frequent_tokens = freq_token(chunk, total_threshold/no_of_chunks).map(lambda item: (item[0], 1)) # apply the function \"freq_token\" to the texts in that particular chunk to find the candidate frequent singletons in it and \n",
        "                                                                                                           # create key-value pairs where the key is the token and the value is always 1\n",
        "    l = l.union(chunk_frequent_tokens) # add those candidate frequent singletons to the rdd \n",
        "  return l"
      ]
    },
    {
      "cell_type": "markdown",
      "source": [
        "**First Map Application**"
      ],
      "metadata": {
        "id": "U34bT-81doK3"
      }
    },
    {
      "cell_type": "code",
      "execution_count": 33,
      "metadata": {
        "id": "c2bfsENtaqnq"
      },
      "outputs": [],
      "source": [
        "c = son_freq_tokens(baskets_par, 5, 5052) # apply the \"son_freq_tokens\" function to all 5 chunks of data"
      ]
    },
    {
      "cell_type": "code",
      "execution_count": 34,
      "metadata": {
        "id": "tpnbOIZxZ81K",
        "colab": {
          "base_uri": "https://localhost:8080/"
        },
        "outputId": "082911e3-f64e-4d94-dda5-3efa1ffa2fea"
      },
      "outputs": [
        {
          "output_type": "execute_result",
          "data": {
            "text/plain": [
              "1074"
            ]
          },
          "metadata": {},
          "execution_count": 34
        }
      ],
      "source": [
        "c.count() # The first Map process resulted in 1074 key-value pairs. Since 5 chunks were processed separately, there can be common keys across chunks."
      ]
    },
    {
      "cell_type": "code",
      "execution_count": 35,
      "metadata": {
        "id": "caebtlaH8HS1",
        "colab": {
          "base_uri": "https://localhost:8080/"
        },
        "outputId": "8083ee97-5c17-4b88-e4b1-dedc0ad0c025"
      },
      "outputs": [
        {
          "output_type": "execute_result",
          "data": {
            "text/plain": [
              "[('around', 1), ('years', 1), ('ago', 1), ('give', 1), ('away', 1)]"
            ]
          },
          "metadata": {},
          "execution_count": 35
        }
      ],
      "source": [
        "c.take(5) # view how the key-value pairs look like"
      ]
    },
    {
      "cell_type": "markdown",
      "metadata": {
        "id": "0tZ4Q5V8BXZ7"
      },
      "source": [
        "**First Reduce Application**"
      ]
    },
    {
      "cell_type": "code",
      "execution_count": 36,
      "metadata": {
        "id": "B67gowTKArHp"
      },
      "outputs": [],
      "source": [
        "cl = c.reduceByKey(lambda x,y : x) # reduce common keys across chunks to a single key"
      ]
    },
    {
      "cell_type": "code",
      "execution_count": 37,
      "metadata": {
        "id": "8TbclnEr_P7a",
        "colab": {
          "base_uri": "https://localhost:8080/"
        },
        "outputId": "b6a73b6f-1be3-41d1-c4b1-c1fcf45fc3dc"
      },
      "outputs": [
        {
          "output_type": "execute_result",
          "data": {
            "text/plain": [
              "227"
            ]
          },
          "metadata": {},
          "execution_count": 37
        }
      ],
      "source": [
        "cl.count() # The first Reduce process resulted in 227 candidate frequent singletons."
      ]
    },
    {
      "cell_type": "code",
      "execution_count": 38,
      "metadata": {
        "id": "Z7fFj8AJ_bMU",
        "colab": {
          "base_uri": "https://localhost:8080/"
        },
        "outputId": "3cd65364-f533-4ef1-a2bd-b8c31a4c65b9"
      },
      "outputs": [
        {
          "output_type": "execute_result",
          "data": {
            "text/plain": [
              "[('away', 1), ('two', 1), ('used', 1), ('schools', 1), ('university', 1)]"
            ]
          },
          "metadata": {},
          "execution_count": 38
        }
      ],
      "source": [
        "cl.take(5) # view how the key-value pairs look like"
      ]
    },
    {
      "cell_type": "code",
      "execution_count": 39,
      "metadata": {
        "id": "giep9nbi7kiE"
      },
      "outputs": [],
      "source": [
        "can_tokens = cl.map(lambda item : item[0]) # collect only the keys, i.e. candidate frequent tokens"
      ]
    },
    {
      "cell_type": "code",
      "execution_count": 40,
      "metadata": {
        "id": "SKLoeGRDXLBA",
        "colab": {
          "base_uri": "https://localhost:8080/"
        },
        "outputId": "2c8ea6c3-63c0-48ea-b259-6032e2b6b0de"
      },
      "outputs": [
        {
          "output_type": "execute_result",
          "data": {
            "text/plain": [
              "['away', 'two', 'used', 'schools', 'university']"
            ]
          },
          "metadata": {},
          "execution_count": 40
        }
      ],
      "source": [
        "can_tokens.take(5) # view how the candidate frequent items list looks like"
      ]
    },
    {
      "cell_type": "code",
      "execution_count": 41,
      "metadata": {
        "id": "x1qj5gs8XF9m"
      },
      "outputs": [],
      "source": [
        "can_token_list = list(can_tokens.toLocalIterator()) # get an iterator that contains all of the elements in this RDD and create a list"
      ]
    },
    {
      "cell_type": "markdown",
      "metadata": {
        "id": "fgdgSonjgOIG"
      },
      "source": [
        "**Second Map Application** "
      ]
    },
    {
      "cell_type": "markdown",
      "source": [
        "Definition of the function to count the number of occurences of the items composing the candidate frequent items list in the chunks"
      ],
      "metadata": {
        "id": "FZ_HvYsknwi6"
      }
    },
    {
      "cell_type": "code",
      "execution_count": 42,
      "metadata": {
        "id": "TSnKiao4w2WO"
      },
      "outputs": [],
      "source": [
        "def count_tokens (ctl, bl):\n",
        "  ld=[]\n",
        "  for element in ctl:\n",
        "    if element in bl:\n",
        "      ld.append((element, bl.count(element)))\n",
        "  return ld"
      ]
    },
    {
      "cell_type": "markdown",
      "source": [
        "Definition of the function to run the second Map phase"
      ],
      "metadata": {
        "id": "NEcd8MhBp9b4"
      }
    },
    {
      "cell_type": "code",
      "source": [
        "def son_freq_tokens2 (baskets, can_token_list, no_of_chunks):\n",
        "  l = sc.parallelize([]) # creation of an empty rdd\n",
        "  for i in range (0, no_of_chunks): # for each chunk from 1 to 5:\n",
        "    chunk = sc.parallelize(baskets.glom().collect()[i]) # collect all the text lines in that chunk\n",
        "    candidates_checked = count_tokens(can_token_list, chunk.flatMap(list).collect()) # apply the \"count_tokens\" function in order to count the number of occurences of the items composing the candidate frequent items list in that chunk\n",
        "    candidates_checked_rdd = sc.parallelize(candidates_checked) # convert the list obtained to an rdd again\n",
        "    l = l.union(candidates_checked_rdd) # add the resulting candidates rdd to the empty rdd \n",
        "  return l"
      ],
      "metadata": {
        "id": "hAowVgJ7vqtH"
      },
      "execution_count": 43,
      "outputs": []
    },
    {
      "cell_type": "code",
      "execution_count": 44,
      "metadata": {
        "id": "Uyz7udZdbFcB"
      },
      "outputs": [],
      "source": [
        "ft = son_freq_tokens2 (baskets_par, can_token_list, 5) # apply the \"son_freq_tokens2\" function to all 5 chunks of data"
      ]
    },
    {
      "cell_type": "code",
      "source": [
        "ft.take(5) # view how the key-value pairs look like"
      ],
      "metadata": {
        "colab": {
          "base_uri": "https://localhost:8080/"
        },
        "id": "SqGoNlCecnp5",
        "outputId": "67b9462a-3079-498a-a8a9-682d83fe44a4"
      },
      "execution_count": 45,
      "outputs": [
        {
          "output_type": "execute_result",
          "data": {
            "text/plain": [
              "[('away', 1179),\n",
              " ('two', 5243),\n",
              " ('used', 1250),\n",
              " ('schools', 1051),\n",
              " ('university', 1241)]"
            ]
          },
          "metadata": {},
          "execution_count": 45
        }
      ]
    },
    {
      "cell_type": "markdown",
      "source": [
        "**Second Reduce Application**"
      ],
      "metadata": {
        "id": "mbaQe_vowJP8"
      }
    },
    {
      "cell_type": "code",
      "execution_count": 46,
      "metadata": {
        "id": "A1TdQNt7lZh-"
      },
      "outputs": [],
      "source": [
        "filtered_tokens = ft.reduceByKey(lambda x, y: x + y).filter(lambda token: token[1] >= 5052) # finally return the overall key-value pairs for all the 5 chunks \n",
        "                                                                                            # where the keys are the reduced candidate frequent tokens without any repetation and the values are their associated counts in all the chunks \n",
        "                                                                                            # and filter out those items whose counts are below the global threshold 5052"
      ]
    },
    {
      "cell_type": "code",
      "execution_count": 47,
      "metadata": {
        "id": "nATmjJ6Nl6IN",
        "colab": {
          "base_uri": "https://localhost:8080/"
        },
        "outputId": "9d095762-1854-4ca4-c1fc-53aa6209bf31"
      },
      "outputs": [
        {
          "output_type": "execute_result",
          "data": {
            "text/plain": [
              "216"
            ]
          },
          "metadata": {},
          "execution_count": 47
        }
      ],
      "source": [
        "filtered_tokens.count() # There are 216 truly frequent singlton itemsets."
      ]
    },
    {
      "cell_type": "code",
      "execution_count": 48,
      "metadata": {
        "id": "3sh_LLL6ZGoY"
      },
      "outputs": [],
      "source": [
        "filtered_tokens_list = sorted(filtered_tokens.collect(), key=lambda t: t[1], reverse=True) # creation of a sorted list of frequent singletons "
      ]
    },
    {
      "cell_type": "code",
      "source": [
        "filtered_tokens_list[:10]"
      ],
      "metadata": {
        "colab": {
          "base_uri": "https://localhost:8080/"
        },
        "id": "9UYCdR7ydXlU",
        "outputId": "f882bcd7-0c2c-4170-f58f-891325c8c929"
      },
      "execution_count": 49,
      "outputs": [
        {
          "output_type": "execute_result",
          "data": {
            "text/plain": [
              "[('said', 113950),\n",
              " ('one', 37839),\n",
              " ('new', 31160),\n",
              " ('would', 30210),\n",
              " ('also', 28148),\n",
              " ('two', 26465),\n",
              " ('year', 25689),\n",
              " ('last', 24415),\n",
              " ('first', 24084),\n",
              " ('years', 23824)]"
            ]
          },
          "metadata": {},
          "execution_count": 49
        }
      ]
    },
    {
      "cell_type": "markdown",
      "metadata": {
        "id": "C3-5ZlvmtQwM"
      },
      "source": [
        "**Finding Frequent Pairs**"
      ]
    },
    {
      "cell_type": "markdown",
      "source": [
        "Definition of the function to count the number of occurences of the item pairs"
      ],
      "metadata": {
        "id": "PFinxJxALPrF"
      }
    },
    {
      "cell_type": "code",
      "execution_count": 50,
      "metadata": {
        "id": "5aDiOVY_UelD"
      },
      "outputs": [],
      "source": [
        "def find_pairs (cltcomb, bl):\n",
        "  ld=[]\n",
        "  for element in cltcomb:\n",
        "    if set(element).issubset(set(bl)):\n",
        "      ld.append((element, 1))\n",
        "  return ld"
      ]
    },
    {
      "cell_type": "markdown",
      "source": [
        "Definition of the function to run the first Map phase"
      ],
      "metadata": {
        "id": "TUphvcbQMTIh"
      }
    },
    {
      "cell_type": "code",
      "execution_count": 51,
      "metadata": {
        "id": "UXvsHL6GW5-v"
      },
      "outputs": [],
      "source": [
        "def son_freq_pairs (baskets, no_of_chunks, total_threshold):\n",
        "  l = []  # creation of an empty list \n",
        "  for i in range (0, no_of_chunks): # for each chunk from 1 to 5:\n",
        "    chunk = sc.parallelize(baskets.glom().collect()[i]) # collect all the text lines in that chunk\n",
        "    chunk_frequent_tokens = freq_token(chunk, total_threshold/no_of_chunks).map(lambda token: (token[0])) # apply the function \"freq_token\" to the texts in that chunk to find the candidate frequent singletons in that chunk\n",
        "    token_pairs = list(itertools.combinations(chunk_frequent_tokens.toLocalIterator(),2)) # create a list of all possible pairs of candidate frequent singletons for that chunk, i.e. candidate frequent pairs for the chunk\n",
        "    identified_token_pairs = chunk.map(lambda x : find_pairs(token_pairs, x)).filter(lambda x: len(x)>0) # using the function \"find_pairs\" find the candidate frequent pairs in that chunk\n",
        "    identified_token_pairs_rdd = identified_token_pairs.flatMap(list) # flatten the list of lists \n",
        "    identified_token_pairs_rdd_red = identified_token_pairs_rdd.reduceByKey(lambda x,y : x+y) # within the chunk reduce common keys found to a single key and sum their corresponding values (frequency counts)\n",
        "    can_frequent_pairs = identified_token_pairs_rdd_red.filter(lambda pair: pair[1] >= total_threshold/no_of_chunks).collect() # filter only the keys whose value is above the adjusted support threshold and collect them\n",
        "    l.append(can_frequent_pairs) # add the filtered and collected pairs list to the empty list\n",
        "  return l"
      ]
    },
    {
      "cell_type": "markdown",
      "source": [
        "**First Map Application**"
      ],
      "metadata": {
        "id": "wbhVDzdgONde"
      }
    },
    {
      "cell_type": "code",
      "execution_count": 52,
      "metadata": {
        "id": "2Z6y5iJFW6LD"
      },
      "outputs": [],
      "source": [
        "chunk_freq_pairs = son_freq_pairs (baskets_par, 5, 5052) # apply the first Map function to find the candidate frequent pairs"
      ]
    },
    {
      "cell_type": "code",
      "execution_count": 53,
      "metadata": {
        "id": "25gyWmpO-mMc",
        "colab": {
          "base_uri": "https://localhost:8080/"
        },
        "outputId": "48a8af42-7e87-4cee-d33c-859ff0ba1cd7"
      },
      "outputs": [
        {
          "output_type": "execute_result",
          "data": {
            "text/plain": [
              "5"
            ]
          },
          "metadata": {},
          "execution_count": 53
        }
      ],
      "source": [
        "len(chunk_freq_pairs)"
      ]
    },
    {
      "cell_type": "code",
      "source": [
        "chunk_freq_pairs_flattened = [item for sublist in chunk_freq_pairs for item in sublist] # flatten the list of lists"
      ],
      "metadata": {
        "id": "qez8D5hg3HRD"
      },
      "execution_count": 54,
      "outputs": []
    },
    {
      "cell_type": "code",
      "source": [
        "chunk_freq_pairs_flattened # view how the list looks like"
      ],
      "metadata": {
        "colab": {
          "base_uri": "https://localhost:8080/"
        },
        "id": "dnfmLQGZ3eFh",
        "outputId": "a90b7e04-6632-445e-ca9e-c5314b3556f6"
      },
      "execution_count": 55,
      "outputs": [
        {
          "output_type": "execute_result",
          "data": {
            "text/plain": [
              "[(('said', 'new'), 1264),\n",
              " (('said', 'think'), 1095),\n",
              " (('said', 'like'), 1348),\n",
              " (('year', 'said'), 1104),\n",
              " (('year', 'last'), 1476),\n",
              " (('said', 'last'), 1013),\n",
              " (('said', 'would'), 1970),\n",
              " (('said', 'us'), 1210),\n",
              " (('new', 'york'), 1065),\n",
              " (('said', 'could'), 1087),\n",
              " (('said', 'going'), 1363),\n",
              " (('said', 'time'), 1284),\n",
              " (('said', 'get'), 1346),\n",
              " (('said', 'one'), 1666),\n",
              " (('said', 'people'), 1528),\n",
              " (('said', 'also'), 1127),\n",
              " (('said', 'would'), 2161),\n",
              " (('said', 'us'), 1196),\n",
              " (('said', 'new'), 1274),\n",
              " (('said', 'last'), 1011),\n",
              " (('said', 'like'), 1385),\n",
              " (('last', 'year'), 1446),\n",
              " (('said', 'year'), 1186),\n",
              " (('new', 'york'), 1072),\n",
              " (('said', 'think'), 1126),\n",
              " (('said', 'get'), 1413),\n",
              " (('said', 'going'), 1403),\n",
              " (('said', 'time'), 1310),\n",
              " (('said', 'could'), 1096),\n",
              " (('said', 'one'), 1732),\n",
              " (('said', 'people'), 1576),\n",
              " (('said', 'also'), 1110),\n",
              " (('think', 'said'), 1113),\n",
              " (('would', 'said'), 2102),\n",
              " (('us', 'said'), 1160),\n",
              " (('year', 'said'), 1147),\n",
              " (('years', 'said'), 1037),\n",
              " (('last', 'year'), 1482),\n",
              " (('said', 'new'), 1240),\n",
              " (('last', 'said'), 1080),\n",
              " (('said', 'like'), 1399),\n",
              " (('said', 'state'), 1030),\n",
              " (('new', 'york'), 1074),\n",
              " (('said', 'one'), 1744),\n",
              " (('said', 'time'), 1304),\n",
              " (('said', 'people'), 1560),\n",
              " (('said', 'could'), 1173),\n",
              " (('said', 'going'), 1448),\n",
              " (('said', 'get'), 1416),\n",
              " (('said', 'also'), 1131),\n",
              " (('new', 'york'), 1143),\n",
              " (('said', 'state'), 1031),\n",
              " (('said', 'years'), 1046),\n",
              " (('said', 'would'), 2041),\n",
              " (('said', 'two'), 1011),\n",
              " (('said', 'think'), 1091),\n",
              " (('said', 'us'), 1242),\n",
              " (('last', 'year'), 1458),\n",
              " (('said', 'like'), 1404),\n",
              " (('said', 'new'), 1326),\n",
              " (('said', 'year'), 1138),\n",
              " (('last', 'said'), 1079),\n",
              " (('said', 'people'), 1642),\n",
              " (('said', 'time'), 1309),\n",
              " (('said', 'one'), 1781),\n",
              " (('said', 'get'), 1527),\n",
              " (('said', 'also'), 1176),\n",
              " (('said', 'could'), 1137),\n",
              " (('said', 'going'), 1408),\n",
              " (('year', 'said'), 1168),\n",
              " (('said', 'like'), 1338),\n",
              " (('said', 'last'), 1064),\n",
              " (('state', 'said'), 1031),\n",
              " (('year', 'last'), 1467),\n",
              " (('said', 'new'), 1254),\n",
              " (('said', 'would'), 2001),\n",
              " (('new', 'york'), 1083),\n",
              " (('years', 'said'), 1036),\n",
              " (('said', 'think'), 1070),\n",
              " (('said', 'us'), 1185),\n",
              " (('said', 'one'), 1713),\n",
              " (('said', 'could'), 1135),\n",
              " (('said', 'also'), 1134),\n",
              " (('said', 'time'), 1251),\n",
              " (('said', 'people'), 1546),\n",
              " (('said', 'get'), 1410),\n",
              " (('said', 'going'), 1345)]"
            ]
          },
          "metadata": {},
          "execution_count": 55
        }
      ]
    },
    {
      "cell_type": "code",
      "execution_count": 56,
      "metadata": {
        "id": "qQsyy70_OAoP"
      },
      "outputs": [],
      "source": [
        "chunk_freq_pairs_flattened_rdd = sc.parallelize(chunk_freq_pairs_flattened) # conversion of the list obtained to an rdd again"
      ]
    },
    {
      "cell_type": "markdown",
      "source": [
        "**First Reduce Application**"
      ],
      "metadata": {
        "id": "ADjYjPfQPfuS"
      }
    },
    {
      "cell_type": "code",
      "execution_count": 57,
      "metadata": {
        "id": "2wT8i6nMQYL0"
      },
      "outputs": [],
      "source": [
        "chunk_freq_pairs_flattened_rdd_reduced = chunk_freq_pairs_flattened_rdd.reduceByKey(lambda x,y : x+y) # across all the chunks reduce common keys found to a single key and sum their corresponding values (frequency counts)"
      ]
    },
    {
      "cell_type": "code",
      "execution_count": 58,
      "metadata": {
        "id": "PcQr1mYXQlZL",
        "colab": {
          "base_uri": "https://localhost:8080/"
        },
        "outputId": "0a68371e-8933-415f-aa1a-aa1bde817edd"
      },
      "outputs": [
        {
          "output_type": "execute_result",
          "data": {
            "text/plain": [
              "27"
            ]
          },
          "metadata": {},
          "execution_count": 58
        }
      ],
      "source": [
        "chunk_freq_pairs_flattened_rdd_reduced.count() # count the number of candidate frequent pairs found"
      ]
    },
    {
      "cell_type": "code",
      "execution_count": 59,
      "metadata": {
        "id": "RuAFY8qHRYA6",
        "colab": {
          "base_uri": "https://localhost:8080/"
        },
        "outputId": "db1a0742-3ee7-4153-b7d2-ed593ee80e0a"
      },
      "outputs": [
        {
          "output_type": "execute_result",
          "data": {
            "text/plain": [
              "[(('said', 'new'), 6358),\n",
              " (('said', 'think'), 4382),\n",
              " (('said', 'like'), 6874),\n",
              " (('year', 'said'), 3419),\n",
              " (('year', 'last'), 2943),\n",
              " (('said', 'last'), 3088),\n",
              " (('said', 'would'), 8173),\n",
              " (('said', 'us'), 4833),\n",
              " (('new', 'york'), 5437),\n",
              " (('last', 'year'), 4386),\n",
              " (('said', 'year'), 2324),\n",
              " (('think', 'said'), 1113),\n",
              " (('would', 'said'), 2102),\n",
              " (('us', 'said'), 1160),\n",
              " (('years', 'said'), 2073),\n",
              " (('last', 'said'), 2159),\n",
              " (('said', 'state'), 2061),\n",
              " (('said', 'years'), 1046),\n",
              " (('said', 'two'), 1011),\n",
              " (('state', 'said'), 1031),\n",
              " (('said', 'could'), 5628),\n",
              " (('said', 'going'), 6967),\n",
              " (('said', 'time'), 6458),\n",
              " (('said', 'get'), 7112),\n",
              " (('said', 'one'), 8636),\n",
              " (('said', 'people'), 7852),\n",
              " (('said', 'also'), 5678)]"
            ]
          },
          "metadata": {},
          "execution_count": 59
        }
      ],
      "source": [
        "chunk_freq_pairs_flattened_rdd_reduced.take(27) # view the key-value pairs"
      ]
    },
    {
      "cell_type": "code",
      "execution_count": 60,
      "metadata": {
        "id": "46gNhrk4TUXT"
      },
      "outputs": [],
      "source": [
        "can_pairs = chunk_freq_pairs_flattened_rdd_reduced.map(lambda item : item[0]) # collect only the keys, i.e. the candidate frequent pairs, and drop the associated counts"
      ]
    },
    {
      "cell_type": "code",
      "execution_count": 61,
      "metadata": {
        "id": "vE5mpITOmn1M"
      },
      "outputs": [],
      "source": [
        "can_pairs_dup_removed = can_pairs.map(lambda x: tuple(sorted(x))).distinct().collect() # Duplicates in the list above were removed here."
      ]
    },
    {
      "cell_type": "code",
      "execution_count": 62,
      "metadata": {
        "id": "Q4dBWX_YmwM8",
        "colab": {
          "base_uri": "https://localhost:8080/"
        },
        "outputId": "0b44789e-9591-4854-ecc7-e460c163dfe4"
      },
      "outputs": [
        {
          "output_type": "execute_result",
          "data": {
            "text/plain": [
              "[('new', 'said'),\n",
              " ('said', 'think'),\n",
              " ('like', 'said'),\n",
              " ('said', 'year'),\n",
              " ('last', 'year'),\n",
              " ('last', 'said'),\n",
              " ('said', 'would'),\n",
              " ('said', 'us'),\n",
              " ('new', 'york'),\n",
              " ('said', 'years'),\n",
              " ('said', 'state'),\n",
              " ('said', 'two'),\n",
              " ('could', 'said'),\n",
              " ('going', 'said'),\n",
              " ('said', 'time'),\n",
              " ('get', 'said'),\n",
              " ('one', 'said'),\n",
              " ('people', 'said'),\n",
              " ('also', 'said')]"
            ]
          },
          "metadata": {},
          "execution_count": 62
        }
      ],
      "source": [
        "can_pairs_dup_removed # These are the candidate frequent pairs. "
      ]
    },
    {
      "cell_type": "code",
      "source": [
        "len(can_pairs_dup_removed) # There are 19 candidate frequent pairs. "
      ],
      "metadata": {
        "colab": {
          "base_uri": "https://localhost:8080/"
        },
        "id": "NABC676xMCJV",
        "outputId": "f3bd912d-7930-4602-b398-9667a63df314"
      },
      "execution_count": 63,
      "outputs": [
        {
          "output_type": "execute_result",
          "data": {
            "text/plain": [
              "19"
            ]
          },
          "metadata": {},
          "execution_count": 63
        }
      ]
    },
    {
      "cell_type": "markdown",
      "source": [
        "Definition of the function to run the second Map phase"
      ],
      "metadata": {
        "id": "bq5RdXTLZy5m"
      }
    },
    {
      "cell_type": "code",
      "execution_count": 64,
      "metadata": {
        "id": "9oVLprjxVzLO"
      },
      "outputs": [],
      "source": [
        "def son_freq_pairs2 (baskets, candidate_pairs, no_of_chunks):\n",
        "  l = [] # creation of an empty list \n",
        "  for i in range (0, no_of_chunks): # for each chunk from 1 to 5:\n",
        "    chunk = sc.parallelize(baskets.glom().collect()[i]) # collect all the text lines in that chunk\n",
        "    identified_token_pairs = chunk.map(lambda x : find_pairs(candidate_pairs, x)).filter(lambda x: len(x)>0) # using the function \"find_pairs\" find and count the occurence of the candidate frequent pairs in that chunk\n",
        "    identified_token_pairs_rdd = identified_token_pairs.flatMap(list) # flatten the list of lists\n",
        "    identified_token_pairs_rdd_red = identified_token_pairs_rdd.reduceByKey(lambda x,y : x+y) # within the chunk reduce common keys found to a single key and sum their corresponding values (frequency counts)\n",
        "    frequent_pairs = identified_token_pairs_rdd_red.collect() # collect them into a list\n",
        "    l.append(frequent_pairs) # add the list to the empty list \n",
        "  return l"
      ]
    },
    {
      "cell_type": "markdown",
      "source": [
        "**Second Map Application**"
      ],
      "metadata": {
        "id": "143pSJyDQARa"
      }
    },
    {
      "cell_type": "code",
      "execution_count": 65,
      "metadata": {
        "id": "cLV7a075olOP"
      },
      "outputs": [],
      "source": [
        "freq_pairs = son_freq_pairs2 (baskets_par, can_pairs_dup_removed, 5) # apply this function to count the occurences of the candidate frequent pairs in the chunks"
      ]
    },
    {
      "cell_type": "code",
      "execution_count": 66,
      "metadata": {
        "id": "PmhtDYUaqN2g",
        "colab": {
          "base_uri": "https://localhost:8080/"
        },
        "outputId": "3bd6e63a-00d5-4bc5-fa0f-3b3f56b4b634"
      },
      "outputs": [
        {
          "output_type": "execute_result",
          "data": {
            "text/plain": [
              "[[(('new', 'said'), 1264),\n",
              "  (('said', 'state'), 992),\n",
              "  (('said', 'think'), 1095),\n",
              "  (('like', 'said'), 1348),\n",
              "  (('said', 'year'), 1104),\n",
              "  (('last', 'year'), 1476),\n",
              "  (('last', 'said'), 1013),\n",
              "  (('said', 'would'), 1970),\n",
              "  (('said', 'us'), 1210),\n",
              "  (('new', 'york'), 1065),\n",
              "  (('said', 'two'), 990),\n",
              "  (('said', 'years'), 986),\n",
              "  (('could', 'said'), 1087),\n",
              "  (('going', 'said'), 1363),\n",
              "  (('said', 'time'), 1284),\n",
              "  (('get', 'said'), 1346),\n",
              "  (('one', 'said'), 1666),\n",
              "  (('people', 'said'), 1528),\n",
              "  (('also', 'said'), 1127)],\n",
              " [(('said', 'would'), 2161),\n",
              "  (('said', 'us'), 1196),\n",
              "  (('new', 'said'), 1274),\n",
              "  (('like', 'said'), 1385),\n",
              "  (('last', 'said'), 1011),\n",
              "  (('last', 'year'), 1446),\n",
              "  (('said', 'years'), 992),\n",
              "  (('said', 'two'), 995),\n",
              "  (('said', 'year'), 1186),\n",
              "  (('new', 'york'), 1072),\n",
              "  (('said', 'state'), 994),\n",
              "  (('said', 'think'), 1126),\n",
              "  (('get', 'said'), 1413),\n",
              "  (('going', 'said'), 1403),\n",
              "  (('said', 'time'), 1310),\n",
              "  (('could', 'said'), 1096),\n",
              "  (('one', 'said'), 1732),\n",
              "  (('people', 'said'), 1576),\n",
              "  (('also', 'said'), 1110)],\n",
              " [(('said', 'think'), 1113),\n",
              "  (('said', 'would'), 2102),\n",
              "  (('said', 'us'), 1160),\n",
              "  (('said', 'year'), 1147),\n",
              "  (('said', 'years'), 1037),\n",
              "  (('said', 'two'), 958),\n",
              "  (('last', 'year'), 1482),\n",
              "  (('new', 'said'), 1240),\n",
              "  (('last', 'said'), 1080),\n",
              "  (('like', 'said'), 1399),\n",
              "  (('said', 'state'), 1030),\n",
              "  (('new', 'york'), 1074),\n",
              "  (('one', 'said'), 1744),\n",
              "  (('said', 'time'), 1304),\n",
              "  (('people', 'said'), 1560),\n",
              "  (('could', 'said'), 1173),\n",
              "  (('going', 'said'), 1448),\n",
              "  (('get', 'said'), 1416),\n",
              "  (('also', 'said'), 1131)],\n",
              " [(('new', 'york'), 1143),\n",
              "  (('said', 'state'), 1031),\n",
              "  (('said', 'years'), 1046),\n",
              "  (('said', 'would'), 2041),\n",
              "  (('said', 'two'), 1011),\n",
              "  (('said', 'think'), 1091),\n",
              "  (('said', 'us'), 1242),\n",
              "  (('last', 'year'), 1458),\n",
              "  (('like', 'said'), 1404),\n",
              "  (('new', 'said'), 1326),\n",
              "  (('said', 'year'), 1138),\n",
              "  (('last', 'said'), 1079),\n",
              "  (('people', 'said'), 1642),\n",
              "  (('said', 'time'), 1309),\n",
              "  (('one', 'said'), 1781),\n",
              "  (('get', 'said'), 1527),\n",
              "  (('also', 'said'), 1176),\n",
              "  (('could', 'said'), 1137),\n",
              "  (('going', 'said'), 1408)],\n",
              " [(('like', 'said'), 1338),\n",
              "  (('said', 'year'), 1168),\n",
              "  (('last', 'said'), 1064),\n",
              "  (('said', 'state'), 1031),\n",
              "  (('last', 'year'), 1467),\n",
              "  (('new', 'said'), 1254),\n",
              "  (('said', 'would'), 2001),\n",
              "  (('new', 'york'), 1083),\n",
              "  (('said', 'years'), 1036),\n",
              "  (('said', 'think'), 1070),\n",
              "  (('said', 'two'), 980),\n",
              "  (('said', 'us'), 1185),\n",
              "  (('one', 'said'), 1713),\n",
              "  (('could', 'said'), 1135),\n",
              "  (('also', 'said'), 1134),\n",
              "  (('said', 'time'), 1251),\n",
              "  (('people', 'said'), 1546),\n",
              "  (('get', 'said'), 1410),\n",
              "  (('going', 'said'), 1345)]]"
            ]
          },
          "metadata": {},
          "execution_count": 66
        }
      ],
      "source": [
        "freq_pairs # view the pairs and their frequencies displayed seperately for each chunk"
      ]
    },
    {
      "cell_type": "code",
      "execution_count": 67,
      "metadata": {
        "id": "2q6SAKOe-CBY"
      },
      "outputs": [],
      "source": [
        "freq_pairs_flattened = [item for sublist in freq_pairs for item in sublist] # flatten the list"
      ]
    },
    {
      "cell_type": "code",
      "execution_count": 68,
      "metadata": {
        "id": "1jqsUsaq-NSV"
      },
      "outputs": [],
      "source": [
        "freq_pairs_flattened_rdd = sc.parallelize(freq_pairs_flattened) # conversion of the list to an rdd again"
      ]
    },
    {
      "cell_type": "markdown",
      "source": [
        "**Second Reduce Application**"
      ],
      "metadata": {
        "id": "xd65Cnt-aiRj"
      }
    },
    {
      "cell_type": "code",
      "execution_count": 69,
      "metadata": {
        "id": "KOYxRUMJ-goY"
      },
      "outputs": [],
      "source": [
        "freq_pairs_flattened_rdd_reduced = freq_pairs_flattened_rdd.reduceByKey(lambda x,y : x+y) # across all the chunks, reduce common keys found to a single key and sum their corresponding values (frequency counts)"
      ]
    },
    {
      "cell_type": "code",
      "execution_count": 70,
      "metadata": {
        "id": "jiy7RVfVFLt7",
        "colab": {
          "base_uri": "https://localhost:8080/"
        },
        "outputId": "c94f2657-ff51-4d0b-e02a-658cfd702b96"
      },
      "outputs": [
        {
          "output_type": "execute_result",
          "data": {
            "text/plain": [
              "19"
            ]
          },
          "metadata": {},
          "execution_count": 70
        }
      ],
      "source": [
        "freq_pairs_flattened_rdd_reduced.count() # count the number of unique key-value pairs"
      ]
    },
    {
      "cell_type": "code",
      "execution_count": 71,
      "metadata": {
        "id": "CEN6HzltFSdF",
        "colab": {
          "base_uri": "https://localhost:8080/"
        },
        "outputId": "54b681a3-3e22-445d-8db7-59263e6ac06a"
      },
      "outputs": [
        {
          "output_type": "execute_result",
          "data": {
            "text/plain": [
              "[(('new', 'said'), 6358),\n",
              " (('said', 'state'), 5078),\n",
              " (('said', 'think'), 5495),\n",
              " (('like', 'said'), 6874),\n",
              " (('said', 'year'), 5743),\n",
              " (('last', 'year'), 7329),\n",
              " (('last', 'said'), 5247),\n",
              " (('said', 'would'), 10275),\n",
              " (('said', 'us'), 5993),\n",
              " (('new', 'york'), 5437),\n",
              " (('said', 'two'), 4934),\n",
              " (('said', 'years'), 5097),\n",
              " (('could', 'said'), 5628),\n",
              " (('going', 'said'), 6967),\n",
              " (('said', 'time'), 6458),\n",
              " (('get', 'said'), 7112),\n",
              " (('one', 'said'), 8636),\n",
              " (('people', 'said'), 7852),\n",
              " (('also', 'said'), 5678)]"
            ]
          },
          "metadata": {},
          "execution_count": 71
        }
      ],
      "source": [
        "freq_pairs_flattened_rdd_reduced.take(19) # view the key-value pairs"
      ]
    },
    {
      "cell_type": "code",
      "execution_count": 72,
      "metadata": {
        "id": "hGvvtIuYpFcN"
      },
      "outputs": [],
      "source": [
        "son_filtered_pairs = freq_pairs_flattened_rdd_reduced.filter(lambda token: token[1] >= 5052) # perform the reduce step and eliminate the pairs whose frequency is less than the global support threshold"
      ]
    },
    {
      "cell_type": "code",
      "execution_count": 73,
      "metadata": {
        "id": "LozD1MXyqUwz",
        "colab": {
          "base_uri": "https://localhost:8080/"
        },
        "outputId": "4c1da8a8-3979-47ae-c2dc-66d2eccfaff6"
      },
      "outputs": [
        {
          "output_type": "execute_result",
          "data": {
            "text/plain": [
              "18"
            ]
          },
          "metadata": {},
          "execution_count": 73
        }
      ],
      "source": [
        "son_filtered_pairs.count() # count the number of truly frequent pairs"
      ]
    },
    {
      "cell_type": "code",
      "execution_count": 74,
      "metadata": {
        "id": "ly5GS2EN6Unn"
      },
      "outputs": [],
      "source": [
        "son_frequent_pairs_list = sorted(son_filtered_pairs.collect(), key=lambda t: t[1], reverse=True) # list the frequent pairs "
      ]
    },
    {
      "cell_type": "code",
      "execution_count": 75,
      "metadata": {
        "id": "FQF-_avKzib2",
        "colab": {
          "base_uri": "https://localhost:8080/"
        },
        "outputId": "c47d4731-919e-4257-9b41-f434c3d5532c"
      },
      "outputs": [
        {
          "output_type": "execute_result",
          "data": {
            "text/plain": [
              "[(('said', 'would'), 10275),\n",
              " (('one', 'said'), 8636),\n",
              " (('people', 'said'), 7852),\n",
              " (('last', 'year'), 7329),\n",
              " (('get', 'said'), 7112),\n",
              " (('going', 'said'), 6967),\n",
              " (('like', 'said'), 6874),\n",
              " (('said', 'time'), 6458),\n",
              " (('new', 'said'), 6358),\n",
              " (('said', 'us'), 5993),\n",
              " (('said', 'year'), 5743),\n",
              " (('also', 'said'), 5678),\n",
              " (('could', 'said'), 5628),\n",
              " (('said', 'think'), 5495),\n",
              " (('new', 'york'), 5437),\n",
              " (('last', 'said'), 5247),\n",
              " (('said', 'years'), 5097),\n",
              " (('said', 'state'), 5078)]"
            ]
          },
          "metadata": {},
          "execution_count": 75
        }
      ],
      "source": [
        "son_frequent_pairs_list"
      ]
    },
    {
      "cell_type": "markdown",
      "source": [
        "### **PFP-Growth Algorithm** "
      ],
      "metadata": {
        "id": "bPsOS2hALPlm"
      }
    },
    {
      "cell_type": "markdown",
      "source": [
        "Select the \"items\" column of the dataset "
      ],
      "metadata": {
        "id": "7ko8G9xDczS1"
      }
    },
    {
      "cell_type": "code",
      "execution_count": 76,
      "metadata": {
        "id": "QGRth54VWbWB",
        "colab": {
          "base_uri": "https://localhost:8080/"
        },
        "outputId": "6f9a0d2d-033b-4dfc-95f5-616f5e2fc307"
      },
      "outputs": [
        {
          "output_type": "stream",
          "name": "stdout",
          "text": [
            "+--------------------+\n",
            "|               items|\n",
            "+--------------------+\n",
            "|[certain, amount,...|\n",
            "|[charlevoix, detr...|\n",
            "|[time, report, su...|\n",
            "|[wandry, matters,...|\n",
            "|[cheap, said, hit...|\n",
            "+--------------------+\n",
            "only showing top 5 rows\n",
            "\n"
          ]
        }
      ],
      "source": [
        "bs = baskets.select(\"items\")\n",
        "bs.show(5)"
      ]
    },
    {
      "cell_type": "code",
      "execution_count": 77,
      "metadata": {
        "id": "tJCZld9nWgR8"
      },
      "outputs": [],
      "source": [
        "from pyspark.ml.fpm import FPGrowth"
      ]
    },
    {
      "cell_type": "code",
      "execution_count": 78,
      "metadata": {
        "id": "z44ZODIRWiS3"
      },
      "outputs": [],
      "source": [
        "fpGrowth = FPGrowth(itemsCol=\"items\", minSupport=0.01, minConfidence=0) # Here, it is possible to specify the minimum confidence, as well."
      ]
    },
    {
      "cell_type": "code",
      "execution_count": 79,
      "metadata": {
        "id": "skjf-4-jYjEj"
      },
      "outputs": [],
      "source": [
        "model = fpGrowth.fit(bs)"
      ]
    },
    {
      "cell_type": "code",
      "execution_count": 80,
      "metadata": {
        "id": "gRlKEbnLYnaJ"
      },
      "outputs": [],
      "source": [
        "frequent_itemsets = model.freqItemsets"
      ]
    },
    {
      "cell_type": "code",
      "execution_count": 81,
      "metadata": {
        "id": "oz8lF0g9Zkc9",
        "colab": {
          "base_uri": "https://localhost:8080/"
        },
        "outputId": "48894663-1ded-470a-cf54-ba4e3828e061"
      },
      "outputs": [
        {
          "output_type": "stream",
          "name": "stdout",
          "text": [
            "+-----------+------+\n",
            "|      items|  freq|\n",
            "+-----------+------+\n",
            "|   [theres]|  5628|\n",
            "|   [former]|  7969|\n",
            "|   [season]| 11598|\n",
            "|    [early]|  6437|\n",
            "|     [said]|113950|\n",
            "|  [yearold]|  5599|\n",
            "|       [go]| 11575|\n",
            "|  [program]|  6404|\n",
            "|      [end]|  7934|\n",
            "|      [one]| 37839|\n",
            "|[one, said]|  8636|\n",
            "|      [ago]|  6395|\n",
            "|     [left]|  7796|\n",
            "|     [ohio]|  5598|\n",
            "|    [since]| 11501|\n",
            "|      [new]| 31160|\n",
            "|[new, said]|  6358|\n",
            "|     [york]|  5593|\n",
            "|[york, new]|  5437|\n",
            "|    [point]|  6394|\n",
            "+-----------+------+\n",
            "only showing top 20 rows\n",
            "\n"
          ]
        }
      ],
      "source": [
        "frequent_itemsets.createOrReplaceTempView(\"frequent_itemsets\")\n",
        "frequent_itemsets.show()"
      ]
    },
    {
      "cell_type": "code",
      "execution_count": 82,
      "metadata": {
        "id": "_jjWu3ROfPnT",
        "colab": {
          "base_uri": "https://localhost:8080/"
        },
        "outputId": "a28c0603-2950-4259-e4c9-241828d9eee2"
      },
      "outputs": [
        {
          "output_type": "stream",
          "name": "stdout",
          "text": [
            "+-----------+------+\n",
            "|      items|  freq|\n",
            "+-----------+------+\n",
            "|     [said]|113950|\n",
            "|      [one]| 37839|\n",
            "|      [new]| 31160|\n",
            "|    [would]| 30210|\n",
            "|     [also]| 28148|\n",
            "|      [two]| 26465|\n",
            "|     [year]| 25689|\n",
            "|     [last]| 24415|\n",
            "|    [first]| 24084|\n",
            "|    [years]| 23824|\n",
            "|     [time]| 23802|\n",
            "|     [like]| 22345|\n",
            "|    [state]| 21202|\n",
            "|   [people]| 21083|\n",
            "|      [get]| 19613|\n",
            "|       [us]| 18918|\n",
            "|    [could]| 18558|\n",
            "|     [city]| 15950|\n",
            "|     [back]| 15673|\n",
            "|    [three]| 15593|\n",
            "|        [—]| 15331|\n",
            "|     [make]| 15207|\n",
            "|     [says]| 14894|\n",
            "|     [even]| 14480|\n",
            "|     [many]| 14250|\n",
            "|   [school]| 14095|\n",
            "|    [going]| 13698|\n",
            "|     [game]| 13683|\n",
            "|     [good]| 13465|\n",
            "|     [home]| 13464|\n",
            "|      [way]| 13396|\n",
            "|     [made]| 13278|\n",
            "|      [may]| 13185|\n",
            "|      [day]| 13139|\n",
            "|   [county]| 12709|\n",
            "|     [much]| 12661|\n",
            "|    [still]| 12533|\n",
            "|     [work]| 12304|\n",
            "|     [well]| 12245|\n",
            "|     [team]| 12161|\n",
            "|  [percent]| 11828|\n",
            "|     [take]| 11752|\n",
            "|     [dont]| 11727|\n",
            "|  [million]| 11681|\n",
            "|   [police]| 11615|\n",
            "|   [season]| 11598|\n",
            "|       [go]| 11575|\n",
            "|    [since]| 11501|\n",
            "|      [say]| 11122|\n",
            "|    [think]| 10988|\n",
            "|  [another]| 10706|\n",
            "|     [know]| 10705|\n",
            "|     [week]| 10356|\n",
            "|      [see]| 10343|\n",
            "|   [public]| 10224|\n",
            "|     [next]| 10218|\n",
            "|       [st]| 10201|\n",
            "|    [right]| 10187|\n",
            "|    [thats]| 10145|\n",
            "|     [four]| 10029|\n",
            "|[including]|  9868|\n",
            "|     [high]|  9803|\n",
            "|     [want]|  9756|\n",
            "|       [pm]|  9750|\n",
            "|      [got]|  9653|\n",
            "|   [around]|  9428|\n",
            "|     [play]|  9222|\n",
            "|   [second]|  9201|\n",
            "|   [center]|  9158|\n",
            "|      [big]|  9103|\n",
            "|[president]|  9079|\n",
            "|     [told]|  9046|\n",
            "|     [part]|  9033|\n",
            "|     [best]|  9027|\n",
            "|[according]|  8808|\n",
            "|    [house]|  8666|\n",
            "|  [company]|  8630|\n",
            "|     [help]|  8590|\n",
            "|   [really]|  8577|\n",
            "|      [lot]|  8557|\n",
            "|   [little]|  8540|\n",
            "|   [family]|  8527|\n",
            "|     [long]|  8463|\n",
            "|     [come]|  8460|\n",
            "|    [every]|  8367|\n",
            "|    [money]|  8214|\n",
            "|    [didnt]|  8031|\n",
            "|     [need]|  7992|\n",
            "|    [never]|  7986|\n",
            "|     [five]|  7983|\n",
            "|   [former]|  7969|\n",
            "|      [end]|  7934|\n",
            "|     [left]|  7796|\n",
            "|    [night]|  7767|\n",
            "|    [place]|  7698|\n",
            "|    [great]|  7674|\n",
            "|[officials]|  7567|\n",
            "|     [show]|  7505|\n",
            "|   [better]|  7410|\n",
            "|       [im]|  7384|\n",
            "+-----------+------+\n",
            "only showing top 100 rows\n",
            "\n"
          ]
        }
      ],
      "source": [
        "# Show 100 most frequent singlton itemsets\n",
        "query = \"\"\"select items, freq\n",
        "           from frequent_itemsets\n",
        "           where size(items) = 1\n",
        "           order by freq desc\"\"\"\n",
        "spark.sql(query).show(100)"
      ]
    },
    {
      "cell_type": "code",
      "source": [
        "# Show 100 most frequent pairs\n",
        "query = \"\"\"select items, freq\n",
        "           from frequent_itemsets\n",
        "           where size(items) = 2\n",
        "           order by freq desc\"\"\"\n",
        "spark.sql(query).show(100)"
      ],
      "metadata": {
        "colab": {
          "base_uri": "https://localhost:8080/"
        },
        "id": "oTvPCUMXcn4p",
        "outputId": "47543bd2-e533-4639-b48e-3d75f033e998"
      },
      "execution_count": 83,
      "outputs": [
        {
          "output_type": "stream",
          "name": "stdout",
          "text": [
            "+--------------+-----+\n",
            "|         items| freq|\n",
            "+--------------+-----+\n",
            "| [would, said]|10275|\n",
            "|   [one, said]| 8636|\n",
            "|[people, said]| 7852|\n",
            "|  [last, year]| 7329|\n",
            "|   [get, said]| 7112|\n",
            "| [going, said]| 6967|\n",
            "|  [like, said]| 6874|\n",
            "|  [time, said]| 6458|\n",
            "|   [new, said]| 6358|\n",
            "|    [us, said]| 5993|\n",
            "|  [year, said]| 5743|\n",
            "|  [also, said]| 5678|\n",
            "| [could, said]| 5628|\n",
            "| [think, said]| 5495|\n",
            "|   [york, new]| 5437|\n",
            "|  [last, said]| 5247|\n",
            "| [years, said]| 5097|\n",
            "| [state, said]| 5078|\n",
            "+--------------+-----+\n",
            "\n"
          ]
        }
      ]
    },
    {
      "cell_type": "code",
      "source": [
        "# Check for frequent itemsets of three or more elements\n",
        "query = \"\"\"select items, freq\n",
        "           from frequent_itemsets\n",
        "           where size(items) > 2\n",
        "           order by freq desc\"\"\"\n",
        "spark.sql(query).show(100)"
      ],
      "metadata": {
        "id": "MvB__8jag0Je",
        "colab": {
          "base_uri": "https://localhost:8080/"
        },
        "outputId": "4636c0a6-b170-423b-9175-225cc80a8407"
      },
      "execution_count": 84,
      "outputs": [
        {
          "output_type": "stream",
          "name": "stdout",
          "text": [
            "+-----+----+\n",
            "|items|freq|\n",
            "+-----+----+\n",
            "+-----+----+\n",
            "\n"
          ]
        }
      ]
    },
    {
      "cell_type": "code",
      "execution_count": 85,
      "metadata": {
        "id": "zthWnswBr9tx"
      },
      "outputs": [],
      "source": [
        "# Discover association rules\n",
        "associationRules = model.associationRules\n",
        "associationRules.createOrReplaceTempView(\"associationRules\")"
      ]
    },
    {
      "cell_type": "code",
      "execution_count": 86,
      "metadata": {
        "id": "_bAB2rSesa3b",
        "colab": {
          "base_uri": "https://localhost:8080/"
        },
        "outputId": "52c65bdb-b910-4bc1-c039-8d9686cab2d3"
      },
      "outputs": [
        {
          "output_type": "execute_result",
          "data": {
            "text/plain": [
              "36"
            ]
          },
          "metadata": {},
          "execution_count": 86
        }
      ],
      "source": [
        "associationRules.count()"
      ]
    },
    {
      "cell_type": "code",
      "source": [
        "associationRules.show(36)"
      ],
      "metadata": {
        "colab": {
          "base_uri": "https://localhost:8080/"
        },
        "id": "j-HFggcVcxkI",
        "outputId": "3deb6ca7-e056-43fa-8dfa-e9db3f01252f"
      },
      "execution_count": 87,
      "outputs": [
        {
          "output_type": "stream",
          "name": "stdout",
          "text": [
            "+----------+----------+--------------------+------------------+--------------------+\n",
            "|antecedent|consequent|          confidence|              lift|             support|\n",
            "+----------+----------+--------------------+------------------+--------------------+\n",
            "|     [one]|    [said]| 0.22823013293163139|1.0119477737836184|0.017092799094295407|\n",
            "|    [year]|    [said]| 0.22355872163182686|0.9912352403221366| 0.01136683015267931|\n",
            "|    [year]|    [last]| 0.28529720892210675|5.9039169539309055|0.014505919935397295|\n",
            "|     [new]|    [said]|  0.2040436456996149|0.9047075001365935|0.012584068624540319|\n",
            "|     [new]|    [york]| 0.17448652118100128|15.762188259347656|0.010761179791070418|\n",
            "|    [also]|    [said]| 0.20171948273411966|0.8944024124225721|0.011238178932076114|\n",
            "|    [like]|    [said]|  0.3076303423584695|1.3639997317584716|0.013605361391174922|\n",
            "|   [years]|    [said]| 0.21394392209536603|0.9486042570189287|0.010088234944838315|\n",
            "|   [would]|    [said]|  0.3401191658391261|1.5080516681605245| 0.02033678910304369|\n",
            "|    [time]|    [said]| 0.27132173766910345|1.2030112977921297|0.012781993579314466|\n",
            "|  [people]|    [said]| 0.37243276573542666|1.6513266821035406|0.015541067448866087|\n",
            "|   [state]|    [said]| 0.23950570700877274|1.0619424521327456|0.010050629203431227|\n",
            "|   [going]|    [said]|   0.508614396262228|  2.25514133213094|0.013789431599114879|\n",
            "|    [last]|    [year]|  0.3001843129223838|5.9039169539309055|0.014505919935397295|\n",
            "|    [last]|    [said]|   0.214908867499488|0.9528827207825917|0.010385122376999538|\n",
            "|     [get]|    [said]|  0.3626166318258298|1.6078030039222986|0.014076422783537395|\n",
            "|    [said]|     [one]| 0.07578762615182097|1.0119477737836182|0.017092799094295407|\n",
            "|    [said]|     [new]| 0.05579640193067135|0.9047075001365935|0.012584068624540319|\n",
            "|    [said]|   [would]| 0.09017112768758227|1.5080516681605245| 0.02033678910304369|\n",
            "|    [said]|   [think]|0.048222904782799475|2.2173495502613005|0.010875976264839424|\n",
            "|    [said]|    [also]| 0.04982887231241773| 0.894402412422572|0.011238178932076114|\n",
            "|    [said]|    [year]| 0.05039929793769197|0.9912352403221365| 0.01136683015267931|\n",
            "|    [said]|    [last]|0.046046511627906975|0.9528827207825917|0.010385122376999538|\n",
            "|    [said]|   [years]| 0.04473014480035103|0.9486042570189286|0.010088234944838315|\n",
            "|    [said]|    [time]|0.056673979815708646|1.2030112977921297|0.012781993579314466|\n",
            "|    [said]|    [like]|  0.0603247038174638|1.3639997317584713|0.013605361391174922|\n",
            "|    [said]|   [state]| 0.04456340500219395|1.0619424521327456|0.010050629203431227|\n",
            "|    [said]|  [people]| 0.06890741553312857|1.6513266821035406|0.015541067448866087|\n",
            "|    [said]|     [get]| 0.06241333918385257|1.6078030039222984|0.014076422783537395|\n",
            "|    [said]|      [us]| 0.05259324265028521|1.4046048791159425| 0.01186164253961468|\n",
            "|    [said]|   [could]| 0.04939008336989908|1.3446462173711904| 0.01113921645468904|\n",
            "|    [said]|   [going]| 0.06114085125054849|  2.25514133213094|0.013789431599114879|\n",
            "|      [us]|    [said]|  0.3167882440004229|1.4046048791159427| 0.01186164253961468|\n",
            "|   [think]|    [said]|  0.5000910083727703| 2.217349550261301|0.010875976264839424|\n",
            "|    [york]|     [new]|  0.9721079921330235|15.762188259347658|0.010761179791070418|\n",
            "|   [could]|    [said]| 0.30326543808600065|1.3446462173711904| 0.01113921645468904|\n",
            "+----------+----------+--------------------+------------------+--------------------+\n",
            "\n"
          ]
        }
      ]
    },
    {
      "cell_type": "markdown",
      "source": [
        "### **Word cloud of the most frequent 100 singletons**"
      ],
      "metadata": {
        "id": "4uQXq1-vUmko"
      }
    },
    {
      "cell_type": "code",
      "execution_count": 88,
      "metadata": {
        "id": "02IS3n4UoqyK"
      },
      "outputs": [],
      "source": [
        "from wordcloud import WordCloud"
      ]
    },
    {
      "cell_type": "code",
      "execution_count": 89,
      "metadata": {
        "id": "qNtC5aBYotUr",
        "colab": {
          "base_uri": "https://localhost:8080/",
          "height": 421
        },
        "outputId": "28ec95ba-7f0e-46ee-c5a7-bd7f7f032434"
      },
      "outputs": [
        {
          "output_type": "display_data",
          "data": {
            "text/plain": [
              "<Figure size 1008x720 with 1 Axes>"
            ],
            "image/png": "[encoded data removed]"
          },
          "metadata": {
            "needs_background": "light"
          }
        }
      ],
      "source": [
        "df = spark.sql(\"\"\" SELECT items \n",
        "                   FROM frequent_itemsets\n",
        "                   WHERE size(items) = 1\n",
        "                   ORDER BY freq desc\n",
        "                   LIMIT 100 \"\"\")\n",
        "\n",
        "# collecting and flattening the output\n",
        "df2 = df.rdd.flatMap(lambda x : x).collect()\n",
        "fullStr = ' '.join(''.join(l) for l in df2)\n",
        "\n",
        "# generating the wordcloud\n",
        "wordcloud = WordCloud(background_color='white', colormap='tab20b').generate(fullStr)\n",
        "\n",
        "# displaying the generated image\n",
        "plt.figure(figsize = (14, 10))\n",
        "plt.imshow(wordcloud, interpolation='bilinear')\n",
        "plt.axis(\"off\")\n",
        "plt.show();"
      ]
    }
  ],
  "metadata": {
    "colab": {
      "collapsed_sections": [],
      "provenance": []
    },
    "kernelspec": {
      "display_name": "Python 3",
      "name": "python3"
    },
    "language_info": {
      "name": "python"
    }
  },
  "nbformat": 4,
  "nbformat_minor": 0
}